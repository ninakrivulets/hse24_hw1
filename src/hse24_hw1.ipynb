{
  "nbformat": 4,
  "nbformat_minor": 0,
  "metadata": {
    "colab": {
      "provenance": []
    },
    "kernelspec": {
      "name": "python3",
      "display_name": "Python 3"
    },
    "language_info": {
      "name": "python"
    }
  },
  "cells": [
    {
      "cell_type": "code",
      "execution_count": 1,
      "metadata": {
        "colab": {
          "base_uri": "https://localhost:8080/"
        },
        "id": "ZV6YVjVmyyuP",
        "outputId": "0ad17dd5-8386-45b0-c263-3d2742bf58da"
      },
      "outputs": [
        {
          "output_type": "stream",
          "name": "stdout",
          "text": [
            "Количество контигов: 611\n",
            "Длина контигов: 3925345\n",
            "Самый длинный контиг: 179304\n",
            "N50: 50481\n"
          ]
        }
      ],
      "source": [
        "f = open(\"Poil_contig.fa\")\n",
        "a = f.readlines()\n",
        "n = ln = 0\n",
        "lng = int(a[0][a[0].find('len') + 3:a[0].rfind('_')])\n",
        "lst = []\n",
        "for i in a:\n",
        "    if '>' in i:\n",
        "        n += 1\n",
        "        ln += int(i[i.find('len') + 3:i.rfind('_')])\n",
        "        ltmp = int(i[i.find('len') + 3:i.rfind('_')])\n",
        "        lst.append(ltmp)\n",
        "        if ltmp > lng:\n",
        "          lng = ltmp\n",
        "lst.sort()\n",
        "lst.reverse()\n",
        "summ = j = ind =  0\n",
        "while summ <= ln/2:\n",
        "    summ += lst[j]\n",
        "    ind = j\n",
        "    j+=1\n",
        "\n",
        "print(f'Количество контигов: {n}')\n",
        "print(f'Длина контигов: {ln}')\n",
        "print(f'Самый длинный контиг: {lng}')\n",
        "print(f'N50: {lst[ind]}')"
      ]
    },
    {
      "cell_type": "code",
      "source": [
        "import re\n",
        "f = open(\"Poil_scaffold.fa\")\n",
        "a = f.readlines()\n",
        "n = ln = mx = sm = 0\n",
        "lng = a[0].split('len')[1].split('_cov')[0]\n",
        "lst = []\n",
        "for i in a:\n",
        "    if '>' in i:\n",
        "        n += 1\n",
        "        ln += int(i[i.index('len') + 3:i.index('_cov')])\n",
        "        ltmp = int(i[i.index('len') + 3:i.index('_cov')])\n",
        "        lst.append(ltmp)\n",
        "    for j in i:\n",
        "        if j == \"N\":\n",
        "            sm += 1\n",
        "lst.sort()\n",
        "lst.reverse()\n",
        "summ = j = ind =  0\n",
        "while summ <= ln/2:\n",
        "    summ += lst[j]\n",
        "    ind = j\n",
        "    j+=1\n",
        "\n",
        "print(f'Количество скаффолдов: {n}')\n",
        "print(f'Длина скаффолдов: {ln}')\n",
        "print(f'Самый длинный скаффолд: {lng}')\n",
        "print(f'N50: {lst[ind]}')\n",
        "print(f'Общая длина гэпов до подрезания: {sm}')"
      ],
      "metadata": {
        "colab": {
          "base_uri": "https://localhost:8080/"
        },
        "id": "3cnR_ZTpzEKh",
        "outputId": "9236ca6f-a395-4fd8-e7ac-a915eacab6e4"
      },
      "execution_count": 2,
      "outputs": [
        {
          "output_type": "stream",
          "name": "stdout",
          "text": [
            "Количество скаффолдов: 76\n",
            "Длина скаффолдов: 3876912\n",
            "Самый длинный скаффолд: 3836144\n",
            "N50: 3836144\n",
            "Общая длина гэпов до подрезания: 7566\n"
          ]
        }
      ]
    },
    {
      "cell_type": "code",
      "source": [
        "f = open(\"Poil_gapClosed.fa\")\n",
        "a = f.readlines()\n",
        "length = 0\n",
        "for i in a:\n",
        "    for j in i:\n",
        "        if j == \"N\":\n",
        "            length += 1\n",
        "print(f'Общая длина гэпов после подрезания: {length}')"
      ],
      "metadata": {
        "colab": {
          "base_uri": "https://localhost:8080/"
        },
        "id": "3M-kMGQJzNQ8",
        "outputId": "30e3ae71-6666-4430-f4a6-006b219c5cd2"
      },
      "execution_count": 7,
      "outputs": [
        {
          "output_type": "stream",
          "name": "stdout",
          "text": [
            "Общая длина гэпов после подрезания: 2888\n"
          ]
        }
      ]
    },
    {
      "cell_type": "code",
      "source": [
        "!grep 'N' Poil_scaffold.fa | wc -l"
      ],
      "metadata": {
        "colab": {
          "base_uri": "https://localhost:8080/"
        },
        "id": "7RVpZCXX0RJk",
        "outputId": "3fdf794e-9a6a-4ddb-934e-d28b04554e3b"
      },
      "execution_count": 4,
      "outputs": [
        {
          "output_type": "stream",
          "name": "stdout",
          "text": [
            "175\n"
          ]
        }
      ]
    },
    {
      "cell_type": "code",
      "source": [
        "!grep 'N' Poil_gapClosed.fa | wc -l"
      ],
      "metadata": {
        "colab": {
          "base_uri": "https://localhost:8080/"
        },
        "id": "fLdwFMe40WkZ",
        "outputId": "62f675be-51c6-4fc6-9bfd-adbaee96fd11"
      },
      "execution_count": 5,
      "outputs": [
        {
          "output_type": "stream",
          "name": "stdout",
          "text": [
            "46\n"
          ]
        }
      ]
    },
    {
      "cell_type": "markdown",
      "source": [
        "#Бонусная часть:"
      ],
      "metadata": {
        "id": "dcF5xu-ZzncN"
      }
    },
    {
      "cell_type": "code",
      "source": [
        "f = open(\"Poil_contig_b.fa\")\n",
        "a = f.readlines()\n",
        "n = ln = 0\n",
        "lng = int(a[0][a[0].find('len') + 3:a[0].rfind('_')])\n",
        "lst = []\n",
        "for i in a:\n",
        "    if '>' in i:\n",
        "        n += 1\n",
        "        ln += int(i[i.find('len') + 3:i.rfind('_')])\n",
        "        ltmp = int(i[i.find('len') + 3:i.rfind('_')])\n",
        "        lst.append(ltmp)\n",
        "        if ltmp > lng:\n",
        "          lng = ltmp\n",
        "lst.sort()\n",
        "lst.reverse()\n",
        "summ = j = ind =  0\n",
        "while summ <= ln/2:\n",
        "    summ += lst[j]\n",
        "    ind = j\n",
        "    j+=1\n",
        "\n",
        "print(f'Количество контигов: {n}')\n",
        "print(f'Длина контигов: {ln}')\n",
        "print(f'Самый длинный контиг: {lng}')\n",
        "print(f'N50: {lst[ind]}')"
      ],
      "metadata": {
        "colab": {
          "base_uri": "https://localhost:8080/"
        },
        "id": "XyY6Sizyzo97",
        "outputId": "7b85bc67-4134-48d9-b9ee-52c7ecd974ca"
      },
      "execution_count": 8,
      "outputs": [
        {
          "output_type": "stream",
          "name": "stdout",
          "text": [
            "Количество контигов: 623\n",
            "Длина контигов: 3920635\n",
            "Самый длинный контиг: 141991\n",
            "N50: 61136\n"
          ]
        }
      ]
    },
    {
      "cell_type": "code",
      "source": [
        "f = open(\"Poil_scaffold_b.fa\")\n",
        "a = f.readlines()\n",
        "n = ln = mx = sm = 0\n",
        "lng = a[0].split('len')[1].split('_cov')[0]\n",
        "lst = []\n",
        "for i in a:\n",
        "    if '>' in i:\n",
        "        n += 1\n",
        "        ln += int(i[i.index('len') + 3:i.index('_cov')])\n",
        "        ltmp = int(i[i.index('len') + 3:i.index('_cov')])\n",
        "        lst.append(ltmp)\n",
        "    for j in i:\n",
        "        if j == \"N\":\n",
        "            sm += 1\n",
        "lst.sort()\n",
        "lst.reverse()\n",
        "summ = j = ind =  0\n",
        "while summ <= ln/2:\n",
        "    summ += lst[j]\n",
        "    ind = j\n",
        "    j+=1\n",
        "\n",
        "print(f'Количество скаффолдов: {n}')\n",
        "print(f'Длина скаффолдов: {ln}')\n",
        "print(f'Самый длинный скаффолд: {lst[0]}')\n",
        "print(f'N50: {lst[ind]}')\n",
        "print(f'Общая длина гэпов до подрезания: {sm}')"
      ],
      "metadata": {
        "colab": {
          "base_uri": "https://localhost:8080/"
        },
        "id": "My7gYKafDWPl",
        "outputId": "69af16cf-e0b6-4746-deeb-6f4d20a42c47"
      },
      "execution_count": 9,
      "outputs": [
        {
          "output_type": "stream",
          "name": "stdout",
          "text": [
            "Количество скаффолдов: 72\n",
            "Длина скаффолдов: 3875120\n",
            "Самый длинный скаффолд: 2763385\n",
            "N50: 2763385\n",
            "Общая длина гэпов до подрезания: 7897\n"
          ]
        }
      ]
    },
    {
      "cell_type": "code",
      "source": [
        "f = open(\"Poil_gapClosed_b.fa\")\n",
        "a = f.readlines()\n",
        "sm = 0\n",
        "for i in a:\n",
        "    for j in i:\n",
        "        if j == \"N\":\n",
        "            sm += 1\n",
        "print(f'Общая длина гэпов после подрезания: {sm}')"
      ],
      "metadata": {
        "colab": {
          "base_uri": "https://localhost:8080/"
        },
        "id": "JBstd5gSDd99",
        "outputId": "ac051f05-7aba-4bf1-ae3f-73fa3cf87d72"
      },
      "execution_count": 10,
      "outputs": [
        {
          "output_type": "stream",
          "name": "stdout",
          "text": [
            "Общая длина гэпов после подрезания: 3355\n"
          ]
        }
      ]
    },
    {
      "cell_type": "code",
      "source": [
        "!grep 'N' Poil_scaffold_b.fa | wc -l"
      ],
      "metadata": {
        "colab": {
          "base_uri": "https://localhost:8080/"
        },
        "id": "yYNX0lNPDfyi",
        "outputId": "83faca61-6a89-465b-f8cf-3f568723b2c1"
      },
      "execution_count": 11,
      "outputs": [
        {
          "output_type": "stream",
          "name": "stdout",
          "text": [
            "182\n"
          ]
        }
      ]
    },
    {
      "cell_type": "code",
      "source": [
        "!grep 'N' Poil_gapClosed_b.fa | wc -l"
      ],
      "metadata": {
        "colab": {
          "base_uri": "https://localhost:8080/"
        },
        "id": "RGswhcGnDjzT",
        "outputId": "84850695-9675-400a-941e-4d23ebaca90d"
      },
      "execution_count": 13,
      "outputs": [
        {
          "output_type": "stream",
          "name": "stdout",
          "text": [
            "56\n"
          ]
        }
      ]
    }
  ]
}